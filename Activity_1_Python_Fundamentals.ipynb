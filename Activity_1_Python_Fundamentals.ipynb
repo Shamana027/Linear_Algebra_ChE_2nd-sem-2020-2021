{
  "nbformat": 4,
  "nbformat_minor": 0,
  "metadata": {
    "colab": {
      "name": "Activity 1 - Python Fundamentals",
      "provenance": [],
      "include_colab_link": true
    },
    "kernelspec": {
      "name": "python3",
      "display_name": "Python 3"
    },
    "language_info": {
      "name": "python"
    }
  },
  "cells": [
    {
      "cell_type": "markdown",
      "metadata": {
        "id": "view-in-github",
        "colab_type": "text"
      },
      "source": [
        "<a href=\"https://colab.research.google.com/github/Shamana027/Linear_Algebra_ChE_2nd-sem-2020-2021/blob/main/Activity_1_Python_Fundamentals.ipynb\" target=\"_parent\"><img src=\"https://colab.research.google.com/assets/colab-badge.svg\" alt=\"Open In Colab\"/></a>"
      ]
    },
    {
      "cell_type": "markdown",
      "source": [
        "# Welcome to Python Fundamentals\n",
        "In this module, we are going to establish or review our skills in Python programming. In this notebook we are going to cover:\n",
        "* Variables and Data Types \n",
        "* Operations\n",
        "* Input and Output Operations\n",
        "* Logic Control\n",
        "* Iterables\n",
        "* Functions"
      ],
      "metadata": {
        "id": "jCp76oOB_ezB"
      }
    },
    {
      "cell_type": "markdown",
      "source": [
        "## Variable and Data Types\n"
      ],
      "metadata": {
        "id": "-FSUjK7xAKbk"
      }
    },
    {
      "cell_type": "code",
      "source": [
        "x = 1\n",
        "a,b = 0, -1\n",
        "b"
      ],
      "metadata": {
        "colab": {
          "base_uri": "https://localhost:8080/"
        },
        "id": "PRPkj65fAR09",
        "outputId": "64cff58c-47a2-438e-a7f7-9b3aa362c9f4"
      },
      "execution_count": null,
      "outputs": [
        {
          "output_type": "execute_result",
          "data": {
            "text/plain": [
              "-1"
            ]
          },
          "metadata": {},
          "execution_count": 5
        }
      ]
    },
    {
      "cell_type": "code",
      "source": [
        "type(x)"
      ],
      "metadata": {
        "colab": {
          "base_uri": "https://localhost:8080/"
        },
        "id": "172DkcgsAwy6",
        "outputId": "11ef4233-5cc5-4767-81e4-fda00306385e"
      },
      "execution_count": null,
      "outputs": [
        {
          "output_type": "execute_result",
          "data": {
            "text/plain": [
              "int"
            ]
          },
          "metadata": {},
          "execution_count": 7
        }
      ]
    },
    {
      "cell_type": "code",
      "source": [
        "y = 1.0\n",
        "type(y)"
      ],
      "metadata": {
        "colab": {
          "base_uri": "https://localhost:8080/"
        },
        "id": "YXJqLCA5Aw-k",
        "outputId": "e4f49458-6201-44c4-d802-5cc81ba4090e"
      },
      "execution_count": null,
      "outputs": [
        {
          "output_type": "execute_result",
          "data": {
            "text/plain": [
              "float"
            ]
          },
          "metadata": {},
          "execution_count": 8
        }
      ]
    },
    {
      "cell_type": "code",
      "source": [
        "x = float(x)  \n",
        "type(x)"
      ],
      "metadata": {
        "colab": {
          "base_uri": "https://localhost:8080/"
        },
        "id": "B2U84vXdBoKJ",
        "outputId": "42f02ab3-7030-4244-a0b0-f7a2627d11f9"
      },
      "execution_count": null,
      "outputs": [
        {
          "output_type": "execute_result",
          "data": {
            "text/plain": [
              "float"
            ]
          },
          "metadata": {},
          "execution_count": 41
        }
      ]
    },
    {
      "cell_type": "code",
      "source": [
        "s, t, u = \"0\", '1', 'one'\n",
        "type(s)"
      ],
      "metadata": {
        "colab": {
          "base_uri": "https://localhost:8080/"
        },
        "id": "4i7O9iKGB4Rm",
        "outputId": "d2d53ad6-ab5d-4e87-c9fc-99fc0d630d86"
      },
      "execution_count": null,
      "outputs": [
        {
          "output_type": "execute_result",
          "data": {
            "text/plain": [
              "str"
            ]
          },
          "metadata": {},
          "execution_count": 13
        }
      ]
    },
    {
      "cell_type": "code",
      "source": [
        "t_int = int(t)\n",
        "t_int "
      ],
      "metadata": {
        "colab": {
          "base_uri": "https://localhost:8080/"
        },
        "id": "ihj-NCwmB4UT",
        "outputId": "2bf535ed-b7d9-4550-eeaa-41b09b5030fa"
      },
      "execution_count": null,
      "outputs": [
        {
          "output_type": "execute_result",
          "data": {
            "text/plain": [
              "1"
            ]
          },
          "metadata": {},
          "execution_count": 19
        }
      ]
    },
    {
      "cell_type": "markdown",
      "source": [
        "## Operations\n"
      ],
      "metadata": {
        "id": "AYDVTG7gCxP_"
      }
    },
    {
      "cell_type": "markdown",
      "source": [
        "### Arthmetic\n"
      ],
      "metadata": {
        "id": "sTf9Z3BPC30h"
      }
    },
    {
      "cell_type": "code",
      "source": [
        "j, u, s, b = 5.0, 13.0, -27.0, 34.0"
      ],
      "metadata": {
        "id": "SpaZ2fVIB4WZ"
      },
      "execution_count": null,
      "outputs": []
    },
    {
      "cell_type": "code",
      "source": [
        "# Addition\n",
        "A = u+b\n",
        "A"
      ],
      "metadata": {
        "colab": {
          "base_uri": "https://localhost:8080/"
        },
        "id": "JxdG75NcC8iq",
        "outputId": "7d068cb2-b26a-4ce0-8047-1f94232e1231"
      },
      "execution_count": null,
      "outputs": [
        {
          "output_type": "execute_result",
          "data": {
            "text/plain": [
              "47.0"
            ]
          },
          "metadata": {},
          "execution_count": 66
        }
      ]
    },
    {
      "cell_type": "code",
      "source": [
        "# Subraction\n",
        "S = j-s\n",
        "S"
      ],
      "metadata": {
        "colab": {
          "base_uri": "https://localhost:8080/"
        },
        "id": "mJNgZITEC8kp",
        "outputId": "3e8d22fd-4603-491f-e5a2-8dac05ca1413"
      },
      "execution_count": null,
      "outputs": [
        {
          "output_type": "execute_result",
          "data": {
            "text/plain": [
              "32.0"
            ]
          },
          "metadata": {},
          "execution_count": 68
        }
      ]
    },
    {
      "cell_type": "code",
      "source": [
        "# Multiplication\n",
        "M = j*u\n",
        "M"
      ],
      "metadata": {
        "colab": {
          "base_uri": "https://localhost:8080/"
        },
        "id": "pHIsz602C8nB",
        "outputId": "ec8ca9a9-8762-4a4e-b005-c280e972d215"
      },
      "execution_count": null,
      "outputs": [
        {
          "output_type": "execute_result",
          "data": {
            "text/plain": [
              "65.0"
            ]
          },
          "metadata": {},
          "execution_count": 69
        }
      ]
    },
    {
      "cell_type": "code",
      "source": [
        "# Division\n",
        "D = s/b\n",
        "D"
      ],
      "metadata": {
        "colab": {
          "base_uri": "https://localhost:8080/"
        },
        "id": "H5h-CnKFC8pK",
        "outputId": "73b0e277-e0a4-4ccc-d0d8-fd5e71d335f0"
      },
      "execution_count": null,
      "outputs": [
        {
          "output_type": "execute_result",
          "data": {
            "text/plain": [
              "-0.7941176470588235"
            ]
          },
          "metadata": {},
          "execution_count": 70
        }
      ]
    },
    {
      "cell_type": "code",
      "source": [
        "# Floor Division\n",
        "Fd = b//j\n",
        "Fd"
      ],
      "metadata": {
        "colab": {
          "base_uri": "https://localhost:8080/"
        },
        "id": "4_3-4jftE2yl",
        "outputId": "2db770fb-1753-45fe-ce26-3074f9d98607"
      },
      "execution_count": null,
      "outputs": [
        {
          "output_type": "execute_result",
          "data": {
            "text/plain": [
              "6.0"
            ]
          },
          "metadata": {},
          "execution_count": 71
        }
      ]
    },
    {
      "cell_type": "code",
      "source": [
        "# Exponentation\n",
        "E = u**j\n",
        "E"
      ],
      "metadata": {
        "colab": {
          "base_uri": "https://localhost:8080/"
        },
        "id": "izKcEU61E25C",
        "outputId": "f1d67272-9af9-43aa-ec8f-fac9b22df528"
      },
      "execution_count": null,
      "outputs": [
        {
          "output_type": "execute_result",
          "data": {
            "text/plain": [
              "371293.0"
            ]
          },
          "metadata": {},
          "execution_count": 72
        }
      ]
    },
    {
      "cell_type": "code",
      "source": [
        "# Modulo\n",
        "mod = b%j\n",
        "mod"
      ],
      "metadata": {
        "colab": {
          "base_uri": "https://localhost:8080/"
        },
        "id": "pssDKakeC8q7",
        "outputId": "4c1616f7-46b9-4ed7-9f36-9a816a111465"
      },
      "execution_count": null,
      "outputs": [
        {
          "output_type": "execute_result",
          "data": {
            "text/plain": [
              "4.0"
            ]
          },
          "metadata": {},
          "execution_count": 75
        }
      ]
    },
    {
      "cell_type": "markdown",
      "source": [
        "### Assignment Operations\n"
      ],
      "metadata": {
        "id": "cz4866lGIjJO"
      }
    },
    {
      "cell_type": "code",
      "source": [
        "G, H, J, K = 0, 100, 2, 2"
      ],
      "metadata": {
        "id": "QQOzoij4IjgL"
      },
      "execution_count": null,
      "outputs": []
    },
    {
      "cell_type": "code",
      "source": [
        "G += j\n",
        "G"
      ],
      "metadata": {
        "colab": {
          "base_uri": "https://localhost:8080/"
        },
        "id": "azbpWbh9IjiS",
        "outputId": "c8e0baad-6d58-42e9-8ced-2f1199bedf63"
      },
      "execution_count": null,
      "outputs": [
        {
          "output_type": "execute_result",
          "data": {
            "text/plain": [
              "15.0"
            ]
          },
          "metadata": {},
          "execution_count": 89
        }
      ]
    },
    {
      "cell_type": "code",
      "source": [
        "G =+ j\n",
        "G"
      ],
      "metadata": {
        "colab": {
          "base_uri": "https://localhost:8080/"
        },
        "id": "NNNqsyuXKm1L",
        "outputId": "87a66c97-5f3c-40ca-c4c6-7dda001dfe13"
      },
      "execution_count": null,
      "outputs": [
        {
          "output_type": "execute_result",
          "data": {
            "text/plain": [
              "5.0"
            ]
          },
          "metadata": {},
          "execution_count": 87
        }
      ]
    },
    {
      "cell_type": "code",
      "source": [
        "H -= u\n",
        "H"
      ],
      "metadata": {
        "colab": {
          "base_uri": "https://localhost:8080/"
        },
        "id": "mjSSNA2dKCJW",
        "outputId": "b6de0851-edcf-4786-dea9-8b596f20d9e5"
      },
      "execution_count": null,
      "outputs": [
        {
          "output_type": "execute_result",
          "data": {
            "text/plain": [
              "87.0"
            ]
          },
          "metadata": {},
          "execution_count": 100
        }
      ]
    },
    {
      "cell_type": "code",
      "source": [
        "J *= s\n",
        "J"
      ],
      "metadata": {
        "colab": {
          "base_uri": "https://localhost:8080/"
        },
        "id": "Leit8Al9KCLT",
        "outputId": "6e6bc08b-3ace-4ed7-c7bd-7c260bf7647e"
      },
      "execution_count": null,
      "outputs": [
        {
          "output_type": "execute_result",
          "data": {
            "text/plain": [
              "1458.0"
            ]
          },
          "metadata": {},
          "execution_count": 85
        }
      ]
    },
    {
      "cell_type": "code",
      "source": [
        "K **= b\n",
        "K"
      ],
      "metadata": {
        "colab": {
          "base_uri": "https://localhost:8080/"
        },
        "id": "SlUPdzYxKCNE",
        "outputId": "87ba7ff8-0fe6-4320-8e85-996ef9ecc481"
      },
      "execution_count": null,
      "outputs": [
        {
          "output_type": "execute_result",
          "data": {
            "text/plain": [
              "17179869184.0"
            ]
          },
          "metadata": {},
          "execution_count": 83
        }
      ]
    },
    {
      "cell_type": "markdown",
      "source": [
        "### Comperators"
      ],
      "metadata": {
        "id": "xpyQf9ZvLK_R"
      }
    },
    {
      "cell_type": "code",
      "source": [
        "res_1, res_2, res_3 = 1, 2.0, \"1\"\n",
        "true_val = 1.0"
      ],
      "metadata": {
        "id": "uJPKi6LKLQwK"
      },
      "execution_count": null,
      "outputs": []
    },
    {
      "cell_type": "code",
      "source": [
        "## Equality\n",
        "res_1 == true_val"
      ],
      "metadata": {
        "colab": {
          "base_uri": "https://localhost:8080/"
        },
        "id": "RHOD7HKzLQ38",
        "outputId": "8c3af017-27da-44e0-bd5c-4ccff26f1445"
      },
      "execution_count": null,
      "outputs": [
        {
          "output_type": "execute_result",
          "data": {
            "text/plain": [
              "True"
            ]
          },
          "metadata": {},
          "execution_count": 106
        }
      ]
    },
    {
      "cell_type": "code",
      "source": [
        "## Non-Equality\n",
        "res_2 != true_val"
      ],
      "metadata": {
        "colab": {
          "base_uri": "https://localhost:8080/"
        },
        "id": "siLMJC9sLoSq",
        "outputId": "72f9a640-8d3e-4c88-ff2c-220e65a21274"
      },
      "execution_count": null,
      "outputs": [
        {
          "output_type": "execute_result",
          "data": {
            "text/plain": [
              "True"
            ]
          },
          "metadata": {},
          "execution_count": 107
        }
      ]
    },
    {
      "cell_type": "code",
      "source": [
        "## Inequality\n",
        "t1 = res_1 > res_2\n",
        "t2 = res_1 < res_2/2\n",
        "t3 = res_1 >= res_2/2\n",
        "t4 = res_1 <=res_2\n",
        "t3"
      ],
      "metadata": {
        "colab": {
          "base_uri": "https://localhost:8080/"
        },
        "id": "FjSAtyJNLoU8",
        "outputId": "7c3f0963-4bad-423f-b230-8b133ff34b93"
      },
      "execution_count": null,
      "outputs": [
        {
          "output_type": "execute_result",
          "data": {
            "text/plain": [
              "True"
            ]
          },
          "metadata": {},
          "execution_count": 108
        }
      ]
    },
    {
      "cell_type": "markdown",
      "source": [
        "### Logical"
      ],
      "metadata": {
        "id": "lbjCFBgiMNJx"
      }
    },
    {
      "cell_type": "code",
      "source": [
        "res_1 == true_val"
      ],
      "metadata": {
        "colab": {
          "base_uri": "https://localhost:8080/"
        },
        "id": "wVUYyjUiLoXH",
        "outputId": "707c39be-9225-4e29-dc1d-a5ddcab38d6a"
      },
      "execution_count": null,
      "outputs": [
        {
          "output_type": "execute_result",
          "data": {
            "text/plain": [
              "True"
            ]
          },
          "metadata": {},
          "execution_count": 109
        }
      ]
    },
    {
      "cell_type": "code",
      "source": [
        "res_1 is true_val"
      ],
      "metadata": {
        "colab": {
          "base_uri": "https://localhost:8080/"
        },
        "id": "jVq_hRWHMS08",
        "outputId": "51c7eed2-4727-4c61-e1d2-7e6c21068ae9"
      },
      "execution_count": null,
      "outputs": [
        {
          "output_type": "execute_result",
          "data": {
            "text/plain": [
              "False"
            ]
          },
          "metadata": {},
          "execution_count": 110
        }
      ]
    },
    {
      "cell_type": "code",
      "source": [
        "res_1 is not true_val\n"
      ],
      "metadata": {
        "colab": {
          "base_uri": "https://localhost:8080/"
        },
        "id": "1gWxMB51MS25",
        "outputId": "e3190980-f733-4b4e-92fd-5c5a5a6ce2e4"
      },
      "execution_count": null,
      "outputs": [
        {
          "output_type": "execute_result",
          "data": {
            "text/plain": [
              "True"
            ]
          },
          "metadata": {},
          "execution_count": 111
        }
      ]
    },
    {
      "cell_type": "code",
      "source": [
        "p, q = True, False\n",
        "conj = p and q\n",
        "conj"
      ],
      "metadata": {
        "colab": {
          "base_uri": "https://localhost:8080/"
        },
        "id": "g5sbaFfmMS49",
        "outputId": "525328b5-1a9e-4d3f-8263-d43f37ca2366"
      },
      "execution_count": null,
      "outputs": [
        {
          "output_type": "execute_result",
          "data": {
            "text/plain": [
              "False"
            ]
          },
          "metadata": {},
          "execution_count": 112
        }
      ]
    },
    {
      "cell_type": "code",
      "source": [
        "p, q = True, False\n",
        "disj = p or q\n",
        "disj"
      ],
      "metadata": {
        "colab": {
          "base_uri": "https://localhost:8080/"
        },
        "id": "-M2pcuxgMS7C",
        "outputId": "7a697ff4-f4cf-4398-8563-778fb41ab52d"
      },
      "execution_count": null,
      "outputs": [
        {
          "output_type": "execute_result",
          "data": {
            "text/plain": [
              "True"
            ]
          },
          "metadata": {},
          "execution_count": 113
        }
      ]
    },
    {
      "cell_type": "code",
      "source": [
        "p, q = True, False\n",
        "nand = not(p and q)\n",
        "nand"
      ],
      "metadata": {
        "colab": {
          "base_uri": "https://localhost:8080/"
        },
        "id": "8vRPgsH-M9FF",
        "outputId": "96b1d877-612d-4ec1-9184-00948efb398e"
      },
      "execution_count": null,
      "outputs": [
        {
          "output_type": "execute_result",
          "data": {
            "text/plain": [
              "True"
            ]
          },
          "metadata": {},
          "execution_count": 114
        }
      ]
    },
    {
      "cell_type": "code",
      "source": [
        "p, q = True, False\n",
        "xor = (not p and q) or (p and not q)\n"
      ],
      "metadata": {
        "id": "TZ4fW24BM9HV"
      },
      "execution_count": null,
      "outputs": []
    },
    {
      "cell_type": "markdown",
      "source": [
        "### I/O"
      ],
      "metadata": {
        "id": "sIVWjG_IOqIm"
      }
    },
    {
      "cell_type": "code",
      "source": [
        "print(\"Shamanaaaa\")"
      ],
      "metadata": {
        "colab": {
          "base_uri": "https://localhost:8080/"
        },
        "id": "00TOoA4YM9Iy",
        "outputId": "65fa7d9e-e24f-4db1-cf1b-dbbff8eefbd0"
      },
      "execution_count": null,
      "outputs": [
        {
          "output_type": "stream",
          "name": "stdout",
          "text": [
            "Shamanaaaa\n"
          ]
        }
      ]
    },
    {
      "cell_type": "code",
      "source": [
        "cnt = 1"
      ],
      "metadata": {
        "id": "YUk-FxA6PD5G"
      },
      "execution_count": null,
      "outputs": []
    },
    {
      "cell_type": "code",
      "source": [
        "string = \"Shamanaaaa\"\n",
        "print(string, \", Current run count is:\", cnt)\n",
        "cnt += 1"
      ],
      "metadata": {
        "colab": {
          "base_uri": "https://localhost:8080/"
        },
        "id": "mvL744pgPJqg",
        "outputId": "6dff8b50-a68f-4334-8a01-c19fbdcf9aad"
      },
      "execution_count": null,
      "outputs": [
        {
          "output_type": "stream",
          "name": "stdout",
          "text": [
            "Shamanaaaa , Current run count is: 1\n"
          ]
        }
      ]
    },
    {
      "cell_type": "code",
      "source": [
        "print(f\"{string}, Current count is: {cnt}\" )"
      ],
      "metadata": {
        "colab": {
          "base_uri": "https://localhost:8080/"
        },
        "id": "fmq82LtCPJs2",
        "outputId": "e4f77eb2-48ad-4c16-93b8-fa187b3603ef"
      },
      "execution_count": null,
      "outputs": [
        {
          "output_type": "stream",
          "name": "stdout",
          "text": [
            "Shamanaaaa, Current count is: 2\n"
          ]
        }
      ]
    },
    {
      "cell_type": "code",
      "source": [
        "sem_grade = 91.14156316\n",
        "name = \"Ulric\"\n",
        "print(\"Hello {}, your semestral grade is: {}\" . format(name, sem_grade))"
      ],
      "metadata": {
        "colab": {
          "base_uri": "https://localhost:8080/"
        },
        "id": "j1n7KhoLPJuu",
        "outputId": "def9eb50-d33b-4b73-9112-cbd20aed37e0"
      },
      "execution_count": null,
      "outputs": [
        {
          "output_type": "stream",
          "name": "stdout",
          "text": [
            "Hello Ulric, your semestral grade is: 91.14156316\n"
          ]
        }
      ]
    },
    {
      "cell_type": "code",
      "source": [
        "w_pg, w_mg, w_fg = 0.25, 0.35, 0.4\n",
        "print(\"The weigths of your semestral grades are:\\\n",
        "\\n\\t{:.1%} for Prelims\\\n",
        "\\n\\t{:.1%} for Midterns, and\\\n",
        "\\n\\t{:.1%} for Finals. \".format(w_pg, w_mg, w_fg))"
      ],
      "metadata": {
        "colab": {
          "base_uri": "https://localhost:8080/"
        },
        "id": "zq2IUJJc_HU6",
        "outputId": "4461a6d8-67da-4a0b-a002-80bc5c0a41f0"
      },
      "execution_count": null,
      "outputs": [
        {
          "output_type": "stream",
          "name": "stdout",
          "text": [
            "The weigths of your semestral grades are:\n",
            "\t25.0% for Prelims\n",
            "\t35.0% for Midterns, and\n",
            "\t40.0% for Finals. \n"
          ]
        }
      ]
    },
    {
      "cell_type": "code",
      "source": [
        "x = input(\"enter a number: \")\n",
        "x"
      ],
      "metadata": {
        "colab": {
          "base_uri": "https://localhost:8080/",
          "height": 52
        },
        "id": "_xk_2k81A6PP",
        "outputId": "1d98bf7f-b265-4a00-ba5b-d894798900e1"
      },
      "execution_count": null,
      "outputs": [
        {
          "name": "stdout",
          "output_type": "stream",
          "text": [
            "enter a number: 2\n"
          ]
        },
        {
          "output_type": "execute_result",
          "data": {
            "application/vnd.google.colaboratory.intrinsic+json": {
              "type": "string"
            },
            "text/plain": [
              "'2'"
            ]
          },
          "metadata": {},
          "execution_count": 21
        }
      ]
    },
    {
      "cell_type": "code",
      "source": [
        "name = input(\"Kimi no nawa: \")\n",
        "pg = input(\"Enter prelim grade: \")\n",
        "mg = input(\"Enter midterm grade: \")\n",
        "fg = input(\"Enter finals grade: \")\n",
        "sem_grade = 90\n",
        "print(\"Hello {}, your semestral grade is: {}\".format(name, sem_grade))"
      ],
      "metadata": {
        "colab": {
          "base_uri": "https://localhost:8080/"
        },
        "id": "vYdGoJWKA6Q6",
        "outputId": "c67e4be3-c073-4435-e3f7-9f9b0c87119d"
      },
      "execution_count": null,
      "outputs": [
        {
          "output_type": "stream",
          "name": "stdout",
          "text": [
            "Kimi no nawa: Ulric\n",
            "Enter prelim grade: 20\n",
            "Enter midterm grade: 30\n",
            "Enter finals grade: 40\n",
            "Hello Ulric, your semestral grade is: 90\n"
          ]
        }
      ]
    },
    {
      "cell_type": "markdown",
      "source": [
        "#Looping Statements\n",
        "\n"
      ],
      "metadata": {
        "id": "ASuBuI2UFCyo"
      }
    },
    {
      "cell_type": "markdown",
      "source": [
        "##While\n"
      ],
      "metadata": {
        "id": "xcJJQln-FHoc"
      }
    },
    {
      "cell_type": "code",
      "source": [
        "##  While loops\n",
        "i, j = 0, 30\n",
        "while(i<=j):\n",
        "      print(f\"{i}\\t     |\\t   {j}\")\n",
        "      i+=2.5"
      ],
      "metadata": {
        "colab": {
          "base_uri": "https://localhost:8080/"
        },
        "id": "BiMnHBI6FFkH",
        "outputId": "2da5d7a9-e37e-4ddc-89b7-aad2bc30ebe5"
      },
      "execution_count": null,
      "outputs": [
        {
          "output_type": "stream",
          "name": "stdout",
          "text": [
            "0\t     |\t   30\n",
            "2.5\t     |\t   30\n",
            "5.0\t     |\t   30\n",
            "7.5\t     |\t   30\n",
            "10.0\t     |\t   30\n",
            "12.5\t     |\t   30\n",
            "15.0\t     |\t   30\n",
            "17.5\t     |\t   30\n",
            "20.0\t     |\t   30\n",
            "22.5\t     |\t   30\n",
            "25.0\t     |\t   30\n",
            "27.5\t     |\t   30\n",
            "30.0\t     |\t   30\n"
          ]
        }
      ]
    },
    {
      "cell_type": "markdown",
      "source": [
        "#For"
      ],
      "metadata": {
        "id": "GUPoBWyeG9Bd"
      }
    },
    {
      "cell_type": "code",
      "source": [
        "# for(int i=0; i<10; i++){\n",
        "# printf(i)\n",
        "# }\n",
        "\n",
        "i=0\n",
        "for i in range(11):\n",
        "      print(i)"
      ],
      "metadata": {
        "colab": {
          "base_uri": "https://localhost:8080/"
        },
        "id": "hX3W9e7xFFmX",
        "outputId": "fbda20e9-e8e7-48cb-e166-f52f987dd0a7"
      },
      "execution_count": null,
      "outputs": [
        {
          "output_type": "stream",
          "name": "stdout",
          "text": [
            "0\n",
            "1\n",
            "2\n",
            "3\n",
            "4\n",
            "5\n",
            "6\n",
            "7\n",
            "8\n",
            "9\n",
            "10\n"
          ]
        }
      ]
    },
    {
      "cell_type": "code",
      "source": [
        "playlist = [\"I'm Alive\", \"Gone Too Soon\", \"Love Someone\"]\n",
        "print('Now Playing:\\n')\n",
        "for song in playlist:\n",
        "      print(song)"
      ],
      "metadata": {
        "colab": {
          "base_uri": "https://localhost:8080/"
        },
        "id": "V09bR6V9FFoA",
        "outputId": "8d222dde-9bba-4445-81eb-8a5181907ade"
      },
      "execution_count": null,
      "outputs": [
        {
          "output_type": "stream",
          "name": "stdout",
          "text": [
            "Now Playing:\n",
            "\n",
            "I'm Alive\n",
            "Gone Too Soon\n",
            "Love Someone\n"
          ]
        }
      ]
    },
    {
      "cell_type": "markdown",
      "source": [
        "#Flow Control\n"
      ],
      "metadata": {
        "id": "mhPCCoEPIGjj"
      }
    },
    {
      "cell_type": "markdown",
      "source": [
        "##Condition Statements\n"
      ],
      "metadata": {
        "id": "QsWrZR_EIGuK"
      }
    },
    {
      "cell_type": "code",
      "source": [
        "numeral1, numeral2 = 15, 14\n",
        "if(numeral1 == numeral2):\n",
        "      print(\"Equal\")\n",
        "elif(numeral1>numeral2):\n",
        "      print(\"Greater\")\n",
        "else:\n",
        "      print(\"Less\")"
      ],
      "metadata": {
        "colab": {
          "base_uri": "https://localhost:8080/"
        },
        "id": "bV1A3jHDIM4v",
        "outputId": "1eaaf41e-be79-48b7-e36d-97dec4f86d02"
      },
      "execution_count": null,
      "outputs": [
        {
          "output_type": "stream",
          "name": "stdout",
          "text": [
            "Greater\n"
          ]
        }
      ]
    },
    {
      "cell_type": "markdown",
      "source": [
        "#Functions\n"
      ],
      "metadata": {
        "id": "5e8oXjXWIzYk"
      }
    },
    {
      "cell_type": "code",
      "source": [
        "# void DeleteUser(int userid){\n",
        "#       delete(userid);\n",
        "# }\n",
        "\n",
        "def delete_user (userid):\n",
        "      print(\"Successfully delete user: {}\".format(userid))\n",
        "\n",
        "def delete_all_users ():\n",
        "      print(\"Succesfully deleted all users\")\n"
      ],
      "metadata": {
        "id": "zEyidfZ-JDbm"
      },
      "execution_count": null,
      "outputs": []
    },
    {
      "cell_type": "code",
      "source": [
        "userid = 123\n",
        "delete_user(123)\n",
        "delete_all_users()"
      ],
      "metadata": {
        "colab": {
          "base_uri": "https://localhost:8080/"
        },
        "id": "EGUFnmyPINeO",
        "outputId": "21af4c95-3b5f-4cc9-df08-4adf9ffd4e1b"
      },
      "execution_count": null,
      "outputs": [
        {
          "output_type": "stream",
          "name": "stdout",
          "text": [
            "Successfully delete user: 123\n",
            "Succesfully deleted all users\n"
          ]
        }
      ]
    },
    {
      "cell_type": "code",
      "source": [
        "def add(addend1, addend2):\n",
        "      print(\"The sum of addend1 and addend2\")\n",
        "      return addend1 + addend2\n",
        "\n",
        "def power_of_base2(exponent):\n",
        "      print(\"The exponent of power_of_base2\")\n",
        "      return 2**exponent\n",
        "\n",
        "addend1 = 5\n",
        "addend2 = 10\n",
        "\n",
        "exponent = 4\n",
        "\n",
        "#add(addend1, addend2)\n",
        "power_of_base2(exponent)"
      ],
      "metadata": {
        "colab": {
          "base_uri": "https://localhost:8080/"
        },
        "id": "dcIII5mpINmV",
        "outputId": "33667ea4-be82-4bf0-b205-8a2474255759"
      },
      "execution_count": null,
      "outputs": [
        {
          "output_type": "stream",
          "name": "stdout",
          "text": [
            "The exponent of power_of_base2\n"
          ]
        },
        {
          "output_type": "execute_result",
          "data": {
            "text/plain": [
              "16"
            ]
          },
          "metadata": {},
          "execution_count": 87
        }
      ]
    },
    {
      "cell_type": "code",
      "source": [
        "add(addend1, addend2)"
      ],
      "metadata": {
        "colab": {
          "base_uri": "https://localhost:8080/"
        },
        "id": "4N3TVe-5INuO",
        "outputId": "210eb1e7-b0ca-4424-e94d-4342e809bc76"
      },
      "execution_count": null,
      "outputs": [
        {
          "output_type": "stream",
          "name": "stdout",
          "text": [
            "The sum of addend1 and addend2\n"
          ]
        },
        {
          "output_type": "execute_result",
          "data": {
            "text/plain": [
              "15"
            ]
          },
          "metadata": {},
          "execution_count": 82
        }
      ]
    },
    {
      "cell_type": "markdown",
      "source": [
        "#Calculator"
      ],
      "metadata": {
        "id": "QmKDXd2NPBuN"
      }
    },
    {
      "cell_type": "code",
      "source": [
        "name = (input(\"Full Name: \"))\n",
        "course = (input(\"Course: \"))\n",
        "\n",
        "pg = float(input(\"Prelim Grade: \"))\n",
        "mg = float(input(\"Midterm Grade: \"))\n",
        "fg = float(input(\"Final Grade: \"))\n",
        "\n",
        "ts = pg + mg + fg\n",
        "sg = ts / 3\n",
        "\n",
        "if (sg > 70.00):\n",
        "    print(\"Hey {} your Semestral Grade is {:.2f} \\U0001F600\".format(name,sg))\n",
        "if (sg == 70.00):\n",
        "    print(\"Hey {} your Semestral Grade is {:.2f} \\U0001F606\".format(name,sg))\n",
        "if (sg < 70.00):\n",
        "    print(\"Hey {} your Semestral Grade is {:.2f} \\U0001F62D\".format(name,sg))\n"
      ],
      "metadata": {
        "id": "R9Nm7HKQPB4o",
        "colab": {
          "base_uri": "https://localhost:8080/"
        },
        "outputId": "7e2d2d45-8521-4cf2-ad7e-7a6b76ea5c6e"
      },
      "execution_count": 1,
      "outputs": [
        {
          "output_type": "stream",
          "name": "stdout",
          "text": [
            "Full Name: John Ulric S. Bon\n",
            "Course: Chemical Engineering\n",
            "Prelim Grade: 70\n",
            "Midterm Grade: 70\n",
            "Final Grade: 70\n",
            "Hey John Ulric S. Bon your Semestral Grade is 70.00 😆\n"
          ]
        }
      ]
    }
  ]
}