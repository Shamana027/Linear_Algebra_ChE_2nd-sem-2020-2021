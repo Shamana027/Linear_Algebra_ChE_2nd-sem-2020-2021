{
  "nbformat": 4,
  "nbformat_minor": 0,
  "metadata": {
    "colab": {
      "name": "Assignment3.ipynb",
      "provenance": [],
      "collapsed_sections": [],
      "include_colab_link": true
    },
    "kernelspec": {
      "name": "python3",
      "display_name": "Python 3"
    },
    "language_info": {
      "name": "python"
    }
  },
  "cells": [
    {
      "cell_type": "markdown",
      "metadata": {
        "id": "view-in-github",
        "colab_type": "text"
      },
      "source": [
        "<a href=\"https://colab.research.google.com/github/Shamana027/Linear_Algebra_ChE_2nd-sem-2020-2021/blob/main/Assignment3.ipynb\" target=\"_parent\"><img src=\"https://colab.research.google.com/assets/colab-badge.svg\" alt=\"Open In Colab\"/></a>"
      ]
    },
    {
      "cell_type": "markdown",
      "source": [
        "# Linear Algebra for ChE\n",
        "## Assignment 3 : Matrices\n"
      ],
      "metadata": {
        "id": "LDoG2SNzKW-r"
      }
    },
    {
      "cell_type": "markdown",
      "source": [
        "### Objectives\n",
        "At the end of this activity you will be able to:\n",
        "1. Be familiar with matrices and their relation to linear equations.\n",
        "2. Perform basic matrix operations.\n",
        "3. Program and translate matrix equations and operations using Python.\n",
        "\n"
      ],
      "metadata": {
        "id": "bowRWKYhKzeQ"
      }
    },
    {
      "cell_type": "markdown",
      "source": [
        "# Discussion\n"
      ],
      "metadata": {
        "id": "mu4_cYaKK1gO"
      }
    },
    {
      "cell_type": "code",
      "source": [
        "import numpy as np\n",
        "import matplotlib.pyplot as plt\n",
        "import scipy.linalg as la\n",
        "%matplotlib inline\n"
      ],
      "metadata": {
        "id": "LrgKINiLKfeZ"
      },
      "execution_count": null,
      "outputs": []
    },
    {
      "cell_type": "markdown",
      "source": [
        "## Matrices"
      ],
      "metadata": {
        "id": "cbA65ZsmK_O2"
      }
    },
    {
      "cell_type": "markdown",
      "source": [
        ""
      ],
      "metadata": {
        "id": "EDtJIXD2LnP-"
      }
    },
    {
      "cell_type": "markdown",
      "source": [
        "$$\n",
        "A = \\left\\{\n",
        "    \\begin{array}\\\n",
        "        x + y \\\\ \n",
        "        4x - 10y\n",
        "    \\end{array}\n",
        "\\right. \\\\\n",
        "B = \\left\\{\n",
        "    \\begin{array}\\\n",
        "        x+y+z \\\\ \n",
        "        3x -2y -z \\\\\n",
        "        -x + 4y +2z\n",
        "    \\end{array}\n",
        "\\right. \\\\ \n",
        "C = \\left\\{\n",
        "    \\begin{array}\\\n",
        "          w-2x+3y-5z \\\\\n",
        "          3w-x-2y+z \\\\\n",
        "          2w-x+3y-2z \\\\\n",
        "    \\end{array}\\\n",
        "  \\right. \\\\ $$"
      ],
      "metadata": {
        "id": "3aluQOQNL14R"
      }
    },
    {
      "cell_type": "markdown",
      "source": [
        "$$\n",
        "A=\\begin{bmatrix} 3 & -1 \\\\ 6 & {-10}\\end{bmatrix} \\\\\n",
        "B=\\begin{bmatrix} 3 & 2 & 1 \\\\ -3 & -2 & -1 \\\\ 7 & 2 & 5\\end{bmatrix}\\\\\n",
        "C=\\begin{bmatrix} 4 & -1 & -2 & 3 \\\\ 6 & 2 & -2 & 4 \\\\ -3 & 5 & -4 & 1\\end{bmatrix}\n",
        "$$"
      ],
      "metadata": {
        "id": "WtyUxwiSOPQw"
      }
    },
    {
      "cell_type": "markdown",
      "source": [
        "$$A=\\begin{bmatrix}\n",
        "a_{(0,0)}&a_{(0,1)}&\\dots&a_{(0,j-1)}\\\\\n",
        "a_{(1,0)}&a_{(1,1)}&\\dots&a_{(1,j-1)}\\\\\n",
        "\\vdots&\\vdots&\\ddots&\\vdots&\\\\\n",
        "a_{(i-1,0)}&a_{(i-1,1)}&\\dots&a_{(i-1,j-1)}\n",
        "\\end{bmatrix}\n",
        "$$\n"
      ],
      "metadata": {
        "id": "HV2LSqS0OPVp"
      }
    },
    {
      "cell_type": "code",
      "source": [
        "## Since we'll keep on describing matrices. Let's make a function.\n",
        "def describe_matrix(matrix):\n",
        "      print(f'Matrix:\\n{matrix}\\n\\nShape:\\t{matrix.shape}\\nRank:\\t{matrix.ndim}\\n')"
      ],
      "metadata": {
        "id": "YDQJLVgIQWq2"
      },
      "execution_count": null,
      "outputs": []
    },
    {
      "cell_type": "code",
      "source": [
        "A = np.array([\n",
        "    [5, 3],\n",
        "    [4, 2]\n",
        "])\n",
        "describe_matrix(A)"
      ],
      "metadata": {
        "colab": {
          "base_uri": "https://localhost:8080/"
        },
        "id": "HQHGngUxQWuR",
        "outputId": "95aa44b4-0351-49de-9edd-975983baa812"
      },
      "execution_count": null,
      "outputs": [
        {
          "output_type": "stream",
          "name": "stdout",
          "text": [
            "Matrix:\n",
            "[[5 3]\n",
            " [4 2]]\n",
            "\n",
            "Shape:\t(2, 2)\n",
            "Rank:\t2\n",
            "\n"
          ]
        }
      ]
    },
    {
      "cell_type": "code",
      "source": [
        "G = np.array([\n",
        "    [1,2,3],\n",
        "    [2,3,4]\n",
        "])\n",
        "describe_matrix(G)\n"
      ],
      "metadata": {
        "colab": {
          "base_uri": "https://localhost:8080/"
        },
        "id": "5jbKk2fYQWwU",
        "outputId": "5779b9dc-c51d-4399-9976-bfb999f5f2fc"
      },
      "execution_count": null,
      "outputs": [
        {
          "output_type": "stream",
          "name": "stdout",
          "text": [
            "Matrix:\n",
            "[[1 2 3]\n",
            " [2 3 4]]\n",
            "\n",
            "Shape:\t(2, 3)\n",
            "Rank:\t2\n",
            "\n"
          ]
        }
      ]
    },
    {
      "cell_type": "code",
      "source": [
        "B = np.array([\n",
        "    [5, 5],\n",
        "    [3, 7],\n",
        "    [2, 8]\n",
        "])\n",
        "describe_matrix(B)\n"
      ],
      "metadata": {
        "colab": {
          "base_uri": "https://localhost:8080/"
        },
        "id": "M4rHDqeeSU2D",
        "outputId": "3cc4967b-02c2-407f-9d2d-9328bd51ed31"
      },
      "execution_count": null,
      "outputs": [
        {
          "output_type": "stream",
          "name": "stdout",
          "text": [
            "Matrix:\n",
            "[[5 5]\n",
            " [3 7]\n",
            " [2 8]]\n",
            "\n",
            "Shape:\t(3, 2)\n",
            "Rank:\t2\n",
            "\n"
          ]
        }
      ]
    },
    {
      "cell_type": "code",
      "source": [
        "H = np.array([5, 10, 15, 20])\n",
        "describe_matrix(H)\n"
      ],
      "metadata": {
        "colab": {
          "base_uri": "https://localhost:8080/"
        },
        "id": "q3HpHpA9SU-i",
        "outputId": "a8a86f68-e90a-4596-c1a8-f483a42afa4c"
      },
      "execution_count": null,
      "outputs": [
        {
          "output_type": "stream",
          "name": "stdout",
          "text": [
            "Matrix:\n",
            "[ 5 10 15 20]\n",
            "\n",
            "Shape:\t(4,)\n",
            "Rank:\t1\n",
            "\n"
          ]
        }
      ]
    },
    {
      "cell_type": "markdown",
      "source": [
        "# Categorizing Matrices"
      ],
      "metadata": {
        "id": "jIV5oGYNST8d"
      }
    },
    {
      "cell_type": "markdown",
      "source": [
        "## According to shape\n",
        "\n"
      ],
      "metadata": {
        "id": "OCmo4yuNSUMm"
      }
    },
    {
      "cell_type": "markdown",
      "source": [
        "### Row and Column Matrices"
      ],
      "metadata": {
        "id": "2_Qk0B-CTxri"
      }
    },
    {
      "cell_type": "code",
      "source": [
        "rowmatrix1D = np.array([\n",
        "    -4, 1, -3, 2\n",
        "]) ## this is a 1-D Matrix with a shape of (3,), it's not really considered as a row matrix.\n",
        "row_mat_2D = np.array([\n",
        "    [7, 5, 3, 1]\n",
        "]) ## this is a 2-D Matrix with a shape of (1,3)\n",
        "describe_matrix(rowmatrix1D)\n",
        "describe_matrix(row_mat_2D)\n"
      ],
      "metadata": {
        "colab": {
          "base_uri": "https://localhost:8080/"
        },
        "id": "dQjbgMYbTyaD",
        "outputId": "2d84cce4-db5c-47f7-82f8-e14871d5c6a2"
      },
      "execution_count": null,
      "outputs": [
        {
          "output_type": "stream",
          "name": "stdout",
          "text": [
            "Matrix:\n",
            "[-4  1 -3  2]\n",
            "\n",
            "Shape:\t(4,)\n",
            "Rank:\t1\n",
            "\n",
            "Matrix:\n",
            "[[7 5 3 1]]\n",
            "\n",
            "Shape:\t(1, 4)\n",
            "Rank:\t2\n",
            "\n"
          ]
        }
      ]
    },
    {
      "cell_type": "code",
      "source": [
        "col_mat = np.array([\n",
        "    [7],\n",
        "    [4],\n",
        "    [1]\n",
        "]) ## this is a 2-D Matrix with a shape of (3,1)\n",
        "describe_matrix(col_mat)\n"
      ],
      "metadata": {
        "colab": {
          "base_uri": "https://localhost:8080/"
        },
        "id": "zzlokF9XT53u",
        "outputId": "6f669db8-3645-47d4-f9eb-7599a9c816ae"
      },
      "execution_count": null,
      "outputs": [
        {
          "output_type": "stream",
          "name": "stdout",
          "text": [
            "Matrix:\n",
            "[[7]\n",
            " [4]\n",
            " [1]]\n",
            "\n",
            "Shape:\t(3, 1)\n",
            "Rank:\t2\n",
            "\n"
          ]
        }
      ]
    },
    {
      "cell_type": "markdown",
      "source": [
        "### Square Matrices"
      ],
      "metadata": {
        "id": "lBa7fI6SVKdV"
      }
    },
    {
      "cell_type": "code",
      "source": [
        "def describe_matrix(matrix):\n",
        "    is_square = True if matrix.shape[0] == matrix.shape[1] else False \n",
        "    print(f'Matrix:\\n{matrix}\\n\\nShape:\\t{matrix.shape}\\nRank:\\t{matrix.ndim}\\nIs Square: {is_square}\\n')\n"
      ],
      "metadata": {
        "id": "JjdoI1nHVKwD"
      },
      "execution_count": null,
      "outputs": []
    },
    {
      "cell_type": "code",
      "source": [
        "square_mat = np.array([\n",
        "    [7,3,1],\n",
        "    [4,4,4],\n",
        "    [9,0,3]\n",
        "])\n",
        "\n",
        "non_square_mat = np.array([\n",
        "    [11,22,33],\n",
        "    [77,88,99]\n",
        "])\n",
        "describe_matrix(square_mat)\n",
        "describe_matrix(non_square_mat)\n"
      ],
      "metadata": {
        "colab": {
          "base_uri": "https://localhost:8080/"
        },
        "id": "Ek2Taa6FVOdZ",
        "outputId": "4aeae27f-be87-4273-d349-d14c54b21d2d"
      },
      "execution_count": null,
      "outputs": [
        {
          "output_type": "stream",
          "name": "stdout",
          "text": [
            "Matrix:\n",
            "[[7 3 1]\n",
            " [4 4 4]\n",
            " [9 0 3]]\n",
            "\n",
            "Shape:\t(3, 3)\n",
            "Rank:\t2\n",
            "Is Square: True\n",
            "\n",
            "Matrix:\n",
            "[[11 22 33]\n",
            " [77 88 99]]\n",
            "\n",
            "Shape:\t(2, 3)\n",
            "Rank:\t2\n",
            "Is Square: False\n",
            "\n"
          ]
        }
      ]
    },
    {
      "cell_type": "markdown",
      "source": [
        "## According to element values"
      ],
      "metadata": {
        "id": "OO6CARXBWIRg"
      }
    },
    {
      "cell_type": "markdown",
      "source": [
        "### Null Matrix\n"
      ],
      "metadata": {
        "id": "BZg_vBo5WF_1"
      }
    },
    {
      "cell_type": "code",
      "source": [
        "def describe_matrix(matrix):\n",
        "    if matrix.size > 0:\n",
        "        is_square = True if matrix.shape[0] == matrix.shape[1] else False \n",
        "        print(f'Matrix:\\n{matrix}\\n\\nShape:\\t{matrix.shape}\\nRank:\\t{matrix.ndim}\\nIs Square: {is_square}\\n')\n",
        "    else:\n",
        "        print('Matrix is Null')\n"
      ],
      "metadata": {
        "id": "7Qhtm105VOl8"
      },
      "execution_count": null,
      "outputs": []
    },
    {
      "cell_type": "code",
      "source": [
        "null_mat = np.array([[]])\n",
        "describe_matrix(null_mat)\n"
      ],
      "metadata": {
        "colab": {
          "base_uri": "https://localhost:8080/"
        },
        "id": "of28almJWOYM",
        "outputId": "e63c416a-c13c-4667-a601-270404c5782a"
      },
      "execution_count": null,
      "outputs": [
        {
          "output_type": "stream",
          "name": "stdout",
          "text": [
            "Matrix is Null\n"
          ]
        }
      ]
    },
    {
      "cell_type": "code",
      "source": [
        "null_mat = np.array([[1]])\n",
        "describe_matrix(null_mat)\n"
      ],
      "metadata": {
        "colab": {
          "base_uri": "https://localhost:8080/"
        },
        "id": "KHm5xkjTWV-z",
        "outputId": "46cbad21-7095-43a2-b542-c058581959a9"
      },
      "execution_count": null,
      "outputs": [
        {
          "output_type": "stream",
          "name": "stdout",
          "text": [
            "Matrix:\n",
            "[[1]]\n",
            "\n",
            "Shape:\t(1, 1)\n",
            "Rank:\t2\n",
            "Is Square: True\n",
            "\n"
          ]
        }
      ]
    },
    {
      "cell_type": "markdown",
      "source": [
        "### Zero Matrix"
      ],
      "metadata": {
        "id": "NquyIDRTXSHj"
      }
    },
    {
      "cell_type": "code",
      "source": [
        "zero_mat_row = np.zeros((1,2))\n",
        "zero_mat_sqr = np.zeros((2,2))\n",
        "zero_mat_rct = np.zeros((3,2))\n",
        "\n",
        "print(f'Zero Row Matrix: \\n{zero_mat_row}')\n",
        "print(f'Zero Square Matrix: \\n{zero_mat_sqr}')\n",
        "print(f'Zero Rectangular Matrix: \\n{zero_mat_rct}')\n"
      ],
      "metadata": {
        "colab": {
          "base_uri": "https://localhost:8080/"
        },
        "id": "q3l7ojzBWY4L",
        "outputId": "2426f6a5-efd9-4840-9c9e-2acf57e17c8d"
      },
      "execution_count": null,
      "outputs": [
        {
          "output_type": "stream",
          "name": "stdout",
          "text": [
            "Zero Row Matrix: \n",
            "[[0. 0.]]\n",
            "Zero Square Matrix: \n",
            "[[0. 0.]\n",
            " [0. 0.]]\n",
            "Zero Rectangular Matrix: \n",
            "[[0. 0.]\n",
            " [0. 0.]\n",
            " [0. 0.]]\n"
          ]
        }
      ]
    },
    {
      "cell_type": "markdown",
      "source": [
        "### Ones Matrix"
      ],
      "metadata": {
        "id": "vyizggBzXmLK"
      }
    },
    {
      "cell_type": "code",
      "source": [
        "ones_mat_row = np.ones((1,2))\n",
        "ones_mat_sqr = np.ones((2,2))\n",
        "ones_mat_rct = np.ones((3,2))\n",
        "\n",
        "print(f'Ones Row Matrix: \\n{ones_mat_row}')\n",
        "print(f'Ones Square Matrix: \\n{ones_mat_sqr}')\n",
        "print(f'Ones Rectangular Matrix: \\n{ones_mat_rct}')\n"
      ],
      "metadata": {
        "colab": {
          "base_uri": "https://localhost:8080/"
        },
        "id": "ckwUEDS_XYEL",
        "outputId": "e36bb12a-a8bb-4e86-97e6-198f298d947b"
      },
      "execution_count": null,
      "outputs": [
        {
          "output_type": "stream",
          "name": "stdout",
          "text": [
            "Ones Row Matrix: \n",
            "[[1. 1.]]\n",
            "Ones Square Matrix: \n",
            "[[1. 1.]\n",
            " [1. 1.]]\n",
            "Ones Rectangular Matrix: \n",
            "[[1. 1.]\n",
            " [1. 1.]\n",
            " [1. 1.]]\n"
          ]
        }
      ]
    },
    {
      "cell_type": "markdown",
      "source": [
        "### Diagonal Matrix"
      ],
      "metadata": {
        "id": "6VNSmtRKXp-J"
      }
    },
    {
      "cell_type": "code",
      "source": [
        "np.array([\n",
        "    [2,0,0],\n",
        "    [0,3,0],\n",
        "    [0,0,5]\n",
        "])\n"
      ],
      "metadata": {
        "colab": {
          "base_uri": "https://localhost:8080/"
        },
        "id": "W4YnKq7SXpB7",
        "outputId": "4d27f7e6-3dde-4610-8e92-50b2e878cebf"
      },
      "execution_count": null,
      "outputs": [
        {
          "output_type": "execute_result",
          "data": {
            "text/plain": [
              "array([[2, 0, 0],\n",
              "       [0, 3, 0],\n",
              "       [0, 0, 5]])"
            ]
          },
          "metadata": {},
          "execution_count": 40
        }
      ]
    },
    {
      "cell_type": "code",
      "source": [
        "d = np.diag([1,1,1])\n",
        "d"
      ],
      "metadata": {
        "colab": {
          "base_uri": "https://localhost:8080/"
        },
        "id": "MWWnT4TzYCFl",
        "outputId": "ced9f929-b199-43cd-c2df-6502f397d0be"
      },
      "execution_count": null,
      "outputs": [
        {
          "output_type": "execute_result",
          "data": {
            "text/plain": [
              "array([[1, 0, 0],\n",
              "       [0, 1, 0],\n",
              "       [0, 0, 1]])"
            ]
          },
          "metadata": {},
          "execution_count": 35
        }
      ]
    },
    {
      "cell_type": "markdown",
      "source": [
        "### Identity Matrix"
      ],
      "metadata": {
        "id": "PuKzboqiXqpE"
      }
    },
    {
      "cell_type": "code",
      "source": [
        "np.identity(11)"
      ],
      "metadata": {
        "colab": {
          "base_uri": "https://localhost:8080/"
        },
        "id": "bv63W7WTXy_A",
        "outputId": "051a9e6a-7dfe-47b4-fa36-4a02a20adf0d"
      },
      "execution_count": null,
      "outputs": [
        {
          "output_type": "execute_result",
          "data": {
            "text/plain": [
              "array([[1., 0., 0., 0., 0., 0., 0., 0., 0., 0., 0.],\n",
              "       [0., 1., 0., 0., 0., 0., 0., 0., 0., 0., 0.],\n",
              "       [0., 0., 1., 0., 0., 0., 0., 0., 0., 0., 0.],\n",
              "       [0., 0., 0., 1., 0., 0., 0., 0., 0., 0., 0.],\n",
              "       [0., 0., 0., 0., 1., 0., 0., 0., 0., 0., 0.],\n",
              "       [0., 0., 0., 0., 0., 1., 0., 0., 0., 0., 0.],\n",
              "       [0., 0., 0., 0., 0., 0., 1., 0., 0., 0., 0.],\n",
              "       [0., 0., 0., 0., 0., 0., 0., 1., 0., 0., 0.],\n",
              "       [0., 0., 0., 0., 0., 0., 0., 0., 1., 0., 0.],\n",
              "       [0., 0., 0., 0., 0., 0., 0., 0., 0., 1., 0.],\n",
              "       [0., 0., 0., 0., 0., 0., 0., 0., 0., 0., 1.]])"
            ]
          },
          "metadata": {},
          "execution_count": 37
        }
      ]
    },
    {
      "cell_type": "code",
      "source": [
        "np.eye(3)"
      ],
      "metadata": {
        "colab": {
          "base_uri": "https://localhost:8080/"
        },
        "id": "7q4GlW_TZXFe",
        "outputId": "a5f887d9-5cd6-4188-95aa-21e2c5816cf2"
      },
      "execution_count": null,
      "outputs": [
        {
          "output_type": "execute_result",
          "data": {
            "text/plain": [
              "array([[1., 0., 0.],\n",
              "       [0., 1., 0.],\n",
              "       [0., 0., 1.]])"
            ]
          },
          "metadata": {},
          "execution_count": 42
        }
      ]
    },
    {
      "cell_type": "markdown",
      "source": [
        "### Upper Triangular Matrix"
      ],
      "metadata": {
        "id": "2DR__QiVXzSP"
      }
    },
    {
      "cell_type": "code",
      "source": [
        "np.array([\n",
        "    [1,2,3,4],\n",
        "    [0,3,1,-1],\n",
        "    [0,0,5,2],\n",
        "    [0,0,0,2]\n",
        "])\n"
      ],
      "metadata": {
        "colab": {
          "base_uri": "https://localhost:8080/"
        },
        "id": "WvkQ5HY8Xzl9",
        "outputId": "cf805783-f6d9-4780-c2c9-1f9bf4ab66b8"
      },
      "execution_count": null,
      "outputs": [
        {
          "output_type": "execute_result",
          "data": {
            "text/plain": [
              "array([[ 1,  2,  3,  4],\n",
              "       [ 0,  3,  1, -1],\n",
              "       [ 0,  0,  5,  2],\n",
              "       [ 0,  0,  0,  2]])"
            ]
          },
          "metadata": {},
          "execution_count": 46
        }
      ]
    },
    {
      "cell_type": "code",
      "source": [
        "F = np.array([\n",
        "                      [5, 4, 3, 2, 1],\n",
        "                      [5, 4, 3, 2, 1],\n",
        "                      [5, 4, 3, 2, 1],\n",
        "                      [5, 4, 3, 2, 1],\n",
        "                      [5, 4, 3, 2, 1],\n",
        "])\n",
        "np.triu(F)"
      ],
      "metadata": {
        "colab": {
          "base_uri": "https://localhost:8080/"
        },
        "id": "QO8Wmj26ZwFz",
        "outputId": "f7c5ff03-3370-492d-df17-1fd424539833"
      },
      "execution_count": null,
      "outputs": [
        {
          "output_type": "execute_result",
          "data": {
            "text/plain": [
              "array([[5, 4, 3, 2, 1],\n",
              "       [0, 4, 3, 2, 1],\n",
              "       [0, 0, 3, 2, 1],\n",
              "       [0, 0, 0, 2, 1],\n",
              "       [0, 0, 0, 0, 1]])"
            ]
          },
          "metadata": {},
          "execution_count": 51
        }
      ]
    },
    {
      "cell_type": "markdown",
      "source": [
        "### Lower Triangular Matrix"
      ],
      "metadata": {
        "id": "mrkNUD8wZO0g"
      }
    },
    {
      "cell_type": "code",
      "source": [
        "np.tril(F)"
      ],
      "metadata": {
        "colab": {
          "base_uri": "https://localhost:8080/"
        },
        "id": "SYFPq8MVZO5B",
        "outputId": "5e011a42-2877-489e-8193-a4c4545d8fa4"
      },
      "execution_count": null,
      "outputs": [
        {
          "output_type": "execute_result",
          "data": {
            "text/plain": [
              "array([[5, 0, 0, 0, 0],\n",
              "       [5, 4, 0, 0, 0],\n",
              "       [5, 4, 3, 0, 0],\n",
              "       [5, 4, 3, 2, 0],\n",
              "       [5, 4, 3, 2, 1]])"
            ]
          },
          "metadata": {},
          "execution_count": 52
        }
      ]
    },
    {
      "cell_type": "markdown",
      "source": [
        "# Practice"
      ],
      "metadata": {
        "id": "-gY2lZDQZO_3"
      }
    },
    {
      "cell_type": "markdown",
      "source": [
        "1. Given the linear combination below, try to create a corresponding matrix representing it.\n"
      ],
      "metadata": {
        "id": "NeGJrPUka8O_"
      }
    },
    {
      "cell_type": "markdown",
      "source": [
        ":$$\\theta = 5x + 3y - z$$\n"
      ],
      "metadata": {
        "id": "w2HggrTrecLY"
      }
    },
    {
      "cell_type": "markdown",
      "source": [
        "2. 2. Given the system of linear combinations below, try to encode it as a matrix. Also describe the matrix.\n"
      ],
      "metadata": {
        "id": "tsK-WqXxZPIj"
      }
    },
    {
      "cell_type": "markdown",
      "source": [
        "$$\n",
        "A = \\left\\{\\begin{array}\n",
        "5x_1 + 2x_2 +x_3\\\\\n",
        "4x_2 - x_3\\\\\n",
        "10x_3\n",
        "\\end{array}\\right.\n",
        "$$"
      ],
      "metadata": {
        "id": "3_bhxTwBegCI"
      }
    },
    {
      "cell_type": "markdown",
      "source": [
        "3. Given the matrix below, express it as a linear combination in a markdown and a LaTeX markdown\n"
      ],
      "metadata": {
        "id": "AH7yge6tbFhr"
      }
    },
    {
      "cell_type": "code",
      "source": [
        "G = np.array([\n",
        "    [1,7,8],\n",
        "    [2,2,2],\n",
        "    [4,6,7]\n",
        "])\n",
        "G"
      ],
      "metadata": {
        "colab": {
          "base_uri": "https://localhost:8080/"
        },
        "id": "T5Ln6fY4bFpx",
        "outputId": "426912b9-7cbd-4ef0-a99f-14ca9bb44077"
      },
      "execution_count": null,
      "outputs": [
        {
          "output_type": "execute_result",
          "data": {
            "text/plain": [
              "array([[1, 7, 8],\n",
              "       [2, 2, 2],\n",
              "       [4, 6, 7]])"
            ]
          },
          "metadata": {},
          "execution_count": 57
        }
      ]
    },
    {
      "cell_type": "markdown",
      "source": [
        "4. Given the matrix below, display the output as a LaTeX markdown also express it as a system of linear combinations.\n"
      ],
      "metadata": {
        "id": "jdbouAAqbOhj"
      }
    },
    {
      "cell_type": "code",
      "source": [
        "H = np.tril(G)\n",
        "H\n"
      ],
      "metadata": {
        "colab": {
          "base_uri": "https://localhost:8080/"
        },
        "id": "ideplxL2bOqv",
        "outputId": "f1431f1c-0616-430e-80ce-dbef4181d49b"
      },
      "execution_count": null,
      "outputs": [
        {
          "output_type": "execute_result",
          "data": {
            "text/plain": [
              "array([[1, 0, 0],\n",
              "       [2, 2, 0],\n",
              "       [4, 6, 7]])"
            ]
          },
          "metadata": {},
          "execution_count": 72
        }
      ]
    },
    {
      "cell_type": "markdown",
      "source": [
        "## Matrix Algebra"
      ],
      "metadata": {
        "id": "NQnM4nRveKcL"
      }
    },
    {
      "cell_type": "markdown",
      "source": [
        "### Addition"
      ],
      "metadata": {
        "id": "qyKUe2pHbZX7"
      }
    },
    {
      "cell_type": "code",
      "source": [
        "A = np.array([\n",
        "              [1,3],\n",
        "              [5,7],\n",
        "              [9,11]\n",
        "])\n",
        "B = np.array([\n",
        "              [0,2],\n",
        "              [4,6],\n",
        "              [8,10]\n",
        "])\n",
        "A+B"
      ],
      "metadata": {
        "colab": {
          "base_uri": "https://localhost:8080/"
        },
        "id": "F2BY8sa6bZch",
        "outputId": "935c609c-3ab0-45c6-f46b-ea13c180407a"
      },
      "execution_count": null,
      "outputs": [
        {
          "output_type": "execute_result",
          "data": {
            "text/plain": [
              "array([[ 1,  5],\n",
              "       [ 9, 13],\n",
              "       [17, 21]])"
            ]
          },
          "metadata": {},
          "execution_count": 64
        }
      ]
    },
    {
      "cell_type": "code",
      "source": [
        "3+B"
      ],
      "metadata": {
        "colab": {
          "base_uri": "https://localhost:8080/"
        },
        "id": "M5GHDDs6cik_",
        "outputId": "0b83b9c7-c8bd-4aee-e577-d2b78e577863"
      },
      "execution_count": null,
      "outputs": [
        {
          "output_type": "execute_result",
          "data": {
            "text/plain": [
              "array([[ 3,  5],\n",
              "       [ 7,  9],\n",
              "       [11, 13]])"
            ]
          },
          "metadata": {},
          "execution_count": 65
        }
      ]
    },
    {
      "cell_type": "markdown",
      "source": [
        "### Subtraction"
      ],
      "metadata": {
        "id": "RCsnKjmObnX6"
      }
    },
    {
      "cell_type": "code",
      "source": [
        "A-B"
      ],
      "metadata": {
        "colab": {
          "base_uri": "https://localhost:8080/"
        },
        "id": "zEUTImxKbo8B",
        "outputId": "99b1c5a4-6529-4a82-a687-190b1d9272d8"
      },
      "execution_count": null,
      "outputs": [
        {
          "output_type": "execute_result",
          "data": {
            "text/plain": [
              "array([[1, 1],\n",
              "       [1, 1],\n",
              "       [1, 1]])"
            ]
          },
          "metadata": {},
          "execution_count": 66
        }
      ]
    },
    {
      "cell_type": "code",
      "source": [
        "3-A"
      ],
      "metadata": {
        "colab": {
          "base_uri": "https://localhost:8080/"
        },
        "id": "ig4a58aGci4_",
        "outputId": "4af6f71d-64f0-49db-ae6c-bec875b0cf28"
      },
      "execution_count": null,
      "outputs": [
        {
          "output_type": "execute_result",
          "data": {
            "text/plain": [
              "array([[ 2,  0],\n",
              "       [-2, -4],\n",
              "       [-6, -8]])"
            ]
          },
          "metadata": {},
          "execution_count": 67
        }
      ]
    },
    {
      "cell_type": "markdown",
      "source": [
        "### Element-wise Multiplication"
      ],
      "metadata": {
        "id": "0-cc2U9XbrXq"
      }
    },
    {
      "cell_type": "code",
      "source": [
        "A*B\n",
        "np.multiply(A,B)\n"
      ],
      "metadata": {
        "colab": {
          "base_uri": "https://localhost:8080/"
        },
        "id": "2NMMjEHabw1h",
        "outputId": "1f7c07bb-084e-448d-fe47-c1a9087d7046"
      },
      "execution_count": null,
      "outputs": [
        {
          "output_type": "execute_result",
          "data": {
            "text/plain": [
              "array([[  0,   6],\n",
              "       [ 20,  42],\n",
              "       [ 72, 110]])"
            ]
          },
          "metadata": {},
          "execution_count": 68
        }
      ]
    },
    {
      "cell_type": "code",
      "source": [
        "2*B"
      ],
      "metadata": {
        "colab": {
          "base_uri": "https://localhost:8080/"
        },
        "id": "5MUwfycBdy2t",
        "outputId": "1f6b0054-43a5-4025-e5b9-d30eb2e8be6b"
      },
      "execution_count": null,
      "outputs": [
        {
          "output_type": "execute_result",
          "data": {
            "text/plain": [
              "array([[ 0,  4],\n",
              "       [ 8, 12],\n",
              "       [16, 20]])"
            ]
          },
          "metadata": {},
          "execution_count": 69
        }
      ]
    },
    {
      "cell_type": "markdown",
      "source": [
        ""
      ],
      "metadata": {
        "id": "fNR2rl5sc6pi"
      }
    },
    {
      "cell_type": "code",
      "source": [
        "alpha=10**-10\n",
        "A/(alpha+B)"
      ],
      "metadata": {
        "colab": {
          "base_uri": "https://localhost:8080/"
        },
        "id": "6LC3dVjicoZJ",
        "outputId": "774522a1-86fc-4663-dc99-46e0ddd13518"
      },
      "execution_count": null,
      "outputs": [
        {
          "output_type": "execute_result",
          "data": {
            "text/plain": [
              "array([[1.00000000e+10, 1.50000000e+00],\n",
              "       [1.25000000e+00, 1.16666667e+00],\n",
              "       [1.12500000e+00, 1.10000000e+00]])"
            ]
          },
          "metadata": {},
          "execution_count": 70
        }
      ]
    },
    {
      "cell_type": "code",
      "source": [
        "np.add(A,B)"
      ],
      "metadata": {
        "colab": {
          "base_uri": "https://localhost:8080/"
        },
        "id": "s04KeqlPd563",
        "outputId": "a51d7e0b-99c8-4b39-ea82-c46c3a2f7a77"
      },
      "execution_count": null,
      "outputs": [
        {
          "output_type": "execute_result",
          "data": {
            "text/plain": [
              "array([[ 1,  5],\n",
              "       [ 9, 13],\n",
              "       [17, 21]])"
            ]
          },
          "metadata": {},
          "execution_count": 71
        }
      ]
    },
    {
      "cell_type": "code",
      "source": [
        ""
      ],
      "metadata": {
        "id": "3OXiakDPeAWY"
      },
      "execution_count": null,
      "outputs": []
    },
    {
      "cell_type": "markdown",
      "source": [
        "## Activity"
      ],
      "metadata": {
        "id": "vCacEVaVfPlt"
      }
    },
    {
      "cell_type": "markdown",
      "source": [
        "# Task 1"
      ],
      "metadata": {
        "id": "VD5chR1GfW1R"
      }
    },
    {
      "cell_type": "markdown",
      "source": [
        "Create a function named `mat_desc()` that througouhly describes a matrix, it should: <br>\n",
        "1. Displays the shape, size, and rank of the matrix. <br>\n",
        "2. Displays whether the matrix is square or non-square. <br>\n",
        "3. Displays whether the matrix is an empty matrix. <br>\n",
        "4. Displays if the matrix is an identity, ones, or zeros matrix <br>\n",
        "   \n",
        "Use 5 sample matrices in which their shapes are not lower than $(3,3)$.\n",
        "In your methodology, create a flowchart discuss the functions and methods you have done. Present your results in the results section showing the description of each matrix you have declared."
      ],
      "metadata": {
        "id": "l6toOV9LfXDq"
      }
    },
    {
      "cell_type": "code",
      "source": [
        "import numpy as np\n",
        "import matplotlib.pyplot as plt\n",
        "import scipy.linalg as la\n",
        "%matplotlib inline\n",
        "\n",
        "def mat_desc(matrix):\n",
        "    a = np.zeros(((4,4)),dtype=int) \n",
        "    b = np.ones(((4,4)),dtype=int)\n",
        "    c = np.diag([1,1,1,1])\n",
        "    if matrix.size > 0:\n",
        "        is_square = True if matrix.shape[0] == matrix.shape[1] else False \n",
        "        is_zero = True if ((matrix == a ).all()) else False \n",
        "        is_one = True if ((matrix == b ).all()) else False\n",
        "        is_identity = True if((matrix == c ).all()) else False \n",
        "\n",
        "        print(f'Matrix:\\n{matrix}\\n\\nShape:\\t{matrix.shape}\\nRank:\\t{matrix.ndim}\\nSquare: {is_square}\\nZero: {is_zero}\\nOne: {is_one}\\nIdentity: {is_identity}\\n')    \n",
        "    else:\n",
        "        print('Matrix is Null')"
      ],
      "metadata": {
        "id": "kIH8mkspfTjf"
      },
      "execution_count": null,
      "outputs": []
    },
    {
      "cell_type": "code",
      "source": [
        "q = np.array([\n",
        "      [4,7,2,5],\n",
        "      [2,5,5,3],\n",
        "      [1,9,3,8],\n",
        "      [7,4,7,4]\n",
        "])\n",
        "\n",
        "w = np.array([\n",
        "      [1,0,0,0],\n",
        "      [0,1,0,0],\n",
        "      [0,0,1,0],\n",
        "      [0,0,0,1]\n",
        "])\n",
        "\n",
        "e = np.array([\n",
        "      [1,1,1,1],\n",
        "      [1,1,1,1],\n",
        "      [1,1,1,1],\n",
        "      [1,1,1,1]\n",
        "])\n",
        "\n",
        "r = np.array([\n",
        "      [0,0,0,0],\n",
        "      [0,0,0,0],\n",
        "      [0,0,0,0],\n",
        "      [0,0,0,0]\n",
        "])\n",
        "\n",
        "t = np.array([])"
      ],
      "metadata": {
        "id": "s8phQbQlYksI"
      },
      "execution_count": null,
      "outputs": []
    },
    {
      "cell_type": "code",
      "source": [
        "mat_desc(q)\n",
        "mat_desc(w)\n",
        "mat_desc(e)\n",
        "mat_desc(r)\n",
        "mat_desc(t)"
      ],
      "metadata": {
        "colab": {
          "base_uri": "https://localhost:8080/"
        },
        "id": "VN60WYpqYmAb",
        "outputId": "0a41915b-35bc-4a6a-dd3c-32e5eefcbab7"
      },
      "execution_count": null,
      "outputs": [
        {
          "output_type": "stream",
          "name": "stdout",
          "text": [
            "Matrix:\n",
            "[[4 7 2 5]\n",
            " [2 5 5 3]\n",
            " [1 9 3 8]\n",
            " [7 4 7 4]]\n",
            "\n",
            "Shape:\t(4, 4)\n",
            "Rank:\t2\n",
            "Square: True\n",
            "Zero: False\n",
            "One: False\n",
            "Identity: False\n",
            "\n",
            "Matrix:\n",
            "[[1 0 0 0]\n",
            " [0 1 0 0]\n",
            " [0 0 1 0]\n",
            " [0 0 0 1]]\n",
            "\n",
            "Shape:\t(4, 4)\n",
            "Rank:\t2\n",
            "Square: True\n",
            "Zero: False\n",
            "One: False\n",
            "Identity: True\n",
            "\n",
            "Matrix:\n",
            "[[1 1 1 1]\n",
            " [1 1 1 1]\n",
            " [1 1 1 1]\n",
            " [1 1 1 1]]\n",
            "\n",
            "Shape:\t(4, 4)\n",
            "Rank:\t2\n",
            "Square: True\n",
            "Zero: False\n",
            "One: True\n",
            "Identity: False\n",
            "\n",
            "Matrix:\n",
            "[[0 0 0 0]\n",
            " [0 0 0 0]\n",
            " [0 0 0 0]\n",
            " [0 0 0 0]]\n",
            "\n",
            "Shape:\t(4, 4)\n",
            "Rank:\t2\n",
            "Square: True\n",
            "Zero: True\n",
            "One: False\n",
            "Identity: False\n",
            "\n",
            "Matrix is Null\n"
          ]
        }
      ]
    },
    {
      "cell_type": "markdown",
      "source": [
        "## Task 2"
      ],
      "metadata": {
        "id": "RiqJEFnVfdTP"
      }
    },
    {
      "cell_type": "markdown",
      "source": [
        "Create a function named `mat_operations()` that takes in two matrices a input parameters it should:<br>\n",
        "\n",
        "1. Determines if the matrices are viable for operation and returns your own error message if they are not viable.\n",
        "2. Returns the sum of the matrices.\n",
        "3. Returns the differen of the matrices.\n",
        "4. Returns the element-wise multiplication of the matrices.\n",
        "5. Returns the element-wise division of the matrices.\n",
        "\n",
        "Use 5 sample matrices in which their shapes are not lower than  (3,3) . In your methodology, create a flowchart discuss the functions and methods you have done. Present your results in the results section showing the description of each matrix you have declared."
      ],
      "metadata": {
        "id": "Ce3SIpFkfdVO"
      }
    },
    {
      "cell_type": "code",
      "source": [
        "import numpy as np\n",
        "import matplotlib.pyplot as plt\n",
        "import scipy.linalg as la\n",
        "%matplotlib inline\n",
        "\n",
        "def mat_operations(matrix):    \n",
        "      \n",
        "      print(f'Matrix:\\n{matrix}')"
      ],
      "metadata": {
        "id": "WJzjzdD7fg5w"
      },
      "execution_count": null,
      "outputs": []
    },
    {
      "cell_type": "code",
      "source": [
        "A = np.array([\n",
        "               [1, 2, 3],\n",
        "               [4, 5, 6],\n",
        "               [7, 8, 9],\n",
        "               [1, 0, 2]\n",
        "])\n",
        "B = np.array([\n",
        "               [3, 1, 2],\n",
        "               [6, 5, 4],\n",
        "               [8, 9, 7],\n",
        "               [9, 5, 3]\n",
        "])\n",
        "C = np.array([\n",
        "               [8, 5, 5],\n",
        "               [9, 6, 2],\n",
        "               [5, 4, 3],\n",
        "               [2, 3, 6]\n",
        "])\n",
        "D = np.array([\n",
        "               [5, 3, 7, 9],\n",
        "               [2, 7, 3, 7],\n",
        "               [9, 4, 3, 6],\n",
        "               [2, 2, 3, 2],\n",
        "               [5, 4, 3, 2]\n",
        "])\n",
        "E = np.array([\n",
        "               [9, 4, 1, 7, 1],\n",
        "               [6, 3, 3, 1, 2],\n",
        "               [7, 4, 9, 2, 3],\n",
        "               [3, 7, 9, 3, 4]\n",
        "])"
      ],
      "metadata": {
        "id": "_2gsbepKYuoA"
      },
      "execution_count": null,
      "outputs": []
    },
    {
      "cell_type": "code",
      "source": [
        "try:  \n",
        "      mat_operations(A*C)\n",
        "except ValueError:\n",
        "      print(\"1. Matrix is not viable\\n\")\n",
        "else:\n",
        "      print(\"1. Matrix is viable\\n\")\n",
        "\n",
        "try:  \n",
        "      mat_operations(A-B)\n",
        "except ValueError:\n",
        "      print(\"2. Matrix is not viable\\n\")\n",
        "else:\n",
        "      print(\"2. Matrix is viable\\n\")\n",
        "\n",
        "try:  \n",
        "      mat_operations(D*E)\n",
        "except ValueError:\n",
        "      print(\"3. Matrix is not viable\\n\")\n",
        "else:\n",
        "      print(\"3. Matrix is viable\\n\")\n",
        "\n",
        "try:  \n",
        "      mat_operations(A/B)\n",
        "except ValueError:\n",
        "      print(\"4. Matrix is not viable\\n\")\n",
        "else:\n",
        "      print(\"4. Matrix is viable\\n\")\n",
        "\n",
        "try:  \n",
        "      mat_operations(A+B)\n",
        "except ValueError:\n",
        "      print(\"5. Matrix is not viable\\n\")\n",
        "else:\n",
        "      print(\"5. Matrix is viable\\n\")\n"
      ],
      "metadata": {
        "colab": {
          "base_uri": "https://localhost:8080/"
        },
        "id": "JkyUt9lAYut6",
        "outputId": "2875d78c-9f5e-4517-a5bf-bd9b5eec630a"
      },
      "execution_count": null,
      "outputs": [
        {
          "output_type": "stream",
          "name": "stdout",
          "text": [
            "Matrix:\n",
            "[[ 8 10 15]\n",
            " [36 30 12]\n",
            " [35 32 27]\n",
            " [ 2  0 12]]\n",
            "1. Matrix is viable\n",
            "\n",
            "Matrix:\n",
            "[[-2  1  1]\n",
            " [-2  0  2]\n",
            " [-1 -1  2]\n",
            " [-8 -5 -1]]\n",
            "2. Matrix is viable\n",
            "\n",
            "3. Matrix is not viable\n",
            "\n",
            "Matrix:\n",
            "[[0.33333333 2.         1.5       ]\n",
            " [0.66666667 1.         1.5       ]\n",
            " [0.875      0.88888889 1.28571429]\n",
            " [0.11111111 0.         0.66666667]]\n",
            "4. Matrix is viable\n",
            "\n",
            "Matrix:\n",
            "[[ 4  3  5]\n",
            " [10 10 10]\n",
            " [15 17 16]\n",
            " [10  5  5]]\n",
            "5. Matrix is viable\n",
            "\n"
          ]
        }
      ]
    },
    {
      "cell_type": "markdown",
      "source": [
        "## Conclusion"
      ],
      "metadata": {
        "id": "PLllUFFRf_Ci"
      }
    },
    {
      "cell_type": "markdown",
      "source": [
        "For your conclusion synthesize the concept and application of the laboratory. Briefly discuss what you have learned and achieved in this activity. Also answer the question: \"How can matrix operations solve problems in technology?\"."
      ],
      "metadata": {
        "id": "BGh7riimgBm6"
      }
    },
    {
      "cell_type": "markdown",
      "source": [
        "  In conclusion, the activity covered the matrix in Python, including the row and column\n",
        "matrices, square matrices, null matrix, zero matrix, ones matrix, diagonal matrix, identity\n",
        "matrix, upper and lower triangular matrix and matrix algebra. We’ve gained the knowledge of\n",
        "stating the shape and rank of a matrix and whether it is a square, zero, one or identity matrix\n",
        "using if statements. We also learned about the try and except coding where it will ignore the\n",
        "error of the code and print out the input that is correlated to the except code. As result, the code\n",
        "will determine the shape and rank and whether the matrix is a square, zero, one or identity and\n",
        "if it is null in task 1 and for task 2, when a matrix is not viable for operations, it will print out\n",
        "“Matrix is not viable”.\n",
        "\n",
        "- How can matrix operations solve problems in technology?\n",
        "\n",
        "Matrix operations are used to provide rapid answers to more complex calculations.\n",
        "They were initially created to describe systems of linear equations. You can use this in\n",
        "encryption, economics and business, physics, animation, and many more. Matrices can also be\n",
        "used to represent real world data like the population of people, infant mortality rate, etc. They\n",
        "are the best representation methods for plotting surveys."
      ],
      "metadata": {
        "id": "1FQK3ov3AAZz"
      }
    },
    {
      "cell_type": "code",
      "source": [
        ""
      ],
      "metadata": {
        "id": "MBDLDFn2AIlF"
      },
      "execution_count": null,
      "outputs": []
    }
  ]
}